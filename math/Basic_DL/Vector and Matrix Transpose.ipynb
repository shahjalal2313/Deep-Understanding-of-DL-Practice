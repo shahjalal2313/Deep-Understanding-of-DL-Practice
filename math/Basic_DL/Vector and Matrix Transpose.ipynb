{
 "cells": [
  {
   "cell_type": "markdown",
   "id": "42173484",
   "metadata": {},
   "source": [
    "# Deep Understanding of Deep Learning Practice\n",
    "## Topic: Math,Numpy,Pytorch\n",
    "#### Topic: Vector and Matrix Transpose\n",
    "\n",
    "### Shahjalal Shanto\n",
    "##### Department of Chemistry, University of Chittagong\n",
    "**February 02,2024**"
   ]
  },
  {
   "cell_type": "code",
   "execution_count": 2,
   "id": "d9bdacf0",
   "metadata": {},
   "outputs": [],
   "source": [
    "#Import Librarries\n",
    "import numpy as np\n",
    "import torch "
   ]
  },
  {
   "cell_type": "markdown",
   "id": "04c99f30",
   "metadata": {},
   "source": [
    "## Using Numpy"
   ]
  },
  {
   "cell_type": "markdown",
   "id": "92e3c4d8",
   "metadata": {},
   "source": [
    "### Vector\n",
    "*vector is simply a one-dimensional array.*"
   ]
  },
  {
   "cell_type": "code",
   "execution_count": 28,
   "id": "95a1b925",
   "metadata": {},
   "outputs": [
    {
     "name": "stdout",
     "output_type": "stream",
     "text": [
      "[  2   4 -10  20]\n"
     ]
    }
   ],
   "source": [
    "#Creating a Vector Using Numpy\n",
    "a = np.array([2,4,-10,20])\n",
    "print(a)"
   ]
  },
  {
   "cell_type": "code",
   "execution_count": 29,
   "id": "8bdbce0c",
   "metadata": {},
   "outputs": [
    {
     "data": {
      "text/plain": [
       "array([  2,   4, -10,  20])"
      ]
     },
     "execution_count": 29,
     "metadata": {},
     "output_type": "execute_result"
    }
   ],
   "source": [
    "#Transposing a Vector\n",
    "a.T\n",
    "#nothing has changed"
   ]
  },
  {
   "cell_type": "code",
   "execution_count": 9,
   "id": "5db9b0bc",
   "metadata": {},
   "outputs": [
    {
     "data": {
      "text/plain": [
       "(4,)"
      ]
     },
     "execution_count": 9,
     "metadata": {},
     "output_type": "execute_result"
    }
   ],
   "source": [
    "#Shape of a \n",
    "a.shape"
   ]
  },
  {
   "cell_type": "code",
   "execution_count": 10,
   "id": "02545447",
   "metadata": {},
   "outputs": [
    {
     "data": {
      "text/plain": [
       "4"
      ]
     },
     "execution_count": 10,
     "metadata": {},
     "output_type": "execute_result"
    }
   ],
   "source": [
    "#Size of a \n",
    "a.size"
   ]
  },
  {
   "cell_type": "code",
   "execution_count": 12,
   "id": "20a2d025",
   "metadata": {},
   "outputs": [
    {
     "name": "stdout",
     "output_type": "stream",
     "text": [
      "[[  2   4 -10  20]]\n"
     ]
    }
   ],
   "source": [
    "# creating a Vector for tranposing\n",
    "aV = np.array([[2,   4, -10,  20]])\n",
    "print(aV)"
   ]
  },
  {
   "cell_type": "code",
   "execution_count": 13,
   "id": "d3c340f4",
   "metadata": {},
   "outputs": [
    {
     "data": {
      "text/plain": [
       "array([[  2],\n",
       "       [  4],\n",
       "       [-10],\n",
       "       [ 20]])"
      ]
     },
     "execution_count": 13,
     "metadata": {},
     "output_type": "execute_result"
    }
   ],
   "source": [
    "# Transposing aV\n",
    "aV.T"
   ]
  },
  {
   "cell_type": "code",
   "execution_count": 42,
   "id": "f30be6e2",
   "metadata": {},
   "outputs": [
    {
     "name": "stdout",
     "output_type": "stream",
     "text": [
      " Shape of aV Vector: (1, 4)\n",
      " Size of aV Vector: 4\n",
      " Type of aV Vector: <class 'numpy.ndarray'>\n"
     ]
    }
   ],
   "source": [
    "#Shape of aV\n",
    "print(f\" Shape of aV Vector: {aV.shape}\")\n",
    "#Size of aV\n",
    "print(f\" Size of aV Vector: {aV.size}\")\n",
    "#type of aV\n",
    "print(f\" Type of aV Vector: {type(aV)}\")"
   ]
  },
  {
   "cell_type": "markdown",
   "id": "950d62de",
   "metadata": {},
   "source": [
    "*Transposing the Transpose will back to its Original*"
   ]
  },
  {
   "cell_type": "code",
   "execution_count": 31,
   "id": "56495fff",
   "metadata": {},
   "outputs": [
    {
     "name": "stdout",
     "output_type": "stream",
     "text": [
      "This is a Original aV vector: [[  2   4 -10  20]]\n",
      " \n",
      "This is aV vector after Transposing: \n",
      " [[  2]\n",
      " [  4]\n",
      " [-10]\n",
      " [ 20]]\n",
      " \n",
      "This is Original Vector after transposing the Transpose Vector: [[  2   4 -10  20]]\n"
     ]
    }
   ],
   "source": [
    "print(f\"This is a Original aV vector: {aV}\")\n",
    "print(\" \")\n",
    "print(f\"This is aV vector after Transposing: \\n {aV.T}\")\n",
    "print(\" \")\n",
    "print(f\"This is Original Vector after transposing the Transpose Vector: {(aV.T).T}\")"
   ]
  },
  {
   "cell_type": "markdown",
   "id": "37e88dbc",
   "metadata": {},
   "source": [
    "### Matrix\n",
    "*matrix is a 2 dimensional array of numbers*"
   ]
  },
  {
   "cell_type": "code",
   "execution_count": 32,
   "id": "dc3bf401",
   "metadata": {},
   "outputs": [
    {
     "name": "stdout",
     "output_type": "stream",
     "text": [
      "[[1 2 3 4]\n",
      " [5 6 7 8]]\n"
     ]
    }
   ],
   "source": [
    "nM = np.array([[1,2,3,4],\n",
    "               [5,6,7,8]\n",
    "              ])\n",
    "print(nM)"
   ]
  },
  {
   "cell_type": "code",
   "execution_count": 41,
   "id": "6cb9b3e4",
   "metadata": {},
   "outputs": [
    {
     "name": "stdout",
     "output_type": "stream",
     "text": [
      "Shape of nM: (2, 4)\n",
      " \n",
      "Size of nM: 8\n",
      " \n",
      "The type of nM Matrix: <class 'numpy.ndarray'>\n"
     ]
    }
   ],
   "source": [
    "#Shape\n",
    "print(f\"Shape of nM: {nM.shape}\")\n",
    "print(\" \")\n",
    "#size\n",
    "print(f\"Size of nM: {nM.size}\"), print(\" \")\n",
    "#Type\n",
    "print(f\"The type of nM Matrix: {type(nM)}\")"
   ]
  },
  {
   "cell_type": "code",
   "execution_count": 38,
   "id": "cab9425e",
   "metadata": {},
   "outputs": [
    {
     "name": "stdout",
     "output_type": "stream",
     "text": [
      "[[1 5]\n",
      " [2 6]\n",
      " [3 7]\n",
      " [4 8]]\n"
     ]
    }
   ],
   "source": [
    "#Transposing the Matrix\n",
    "print(nM.T)"
   ]
  },
  {
   "cell_type": "code",
   "execution_count": 39,
   "id": "4249f927",
   "metadata": {},
   "outputs": [
    {
     "name": "stdout",
     "output_type": "stream",
     "text": [
      "[[1 2 3 4]\n",
      " [5 6 7 8]]\n"
     ]
    }
   ],
   "source": [
    "##Transposing the Transpose Matrix\n",
    "print((nM.T).T)"
   ]
  },
  {
   "cell_type": "markdown",
   "id": "cdbe1544",
   "metadata": {},
   "source": [
    "## Using Pytorch"
   ]
  },
  {
   "cell_type": "code",
   "execution_count": 47,
   "id": "ae53ea55",
   "metadata": {},
   "outputs": [
    {
     "name": "stdout",
     "output_type": "stream",
     "text": [
      "tensor([[1, 2, 3, 4]])\n"
     ]
    }
   ],
   "source": [
    "#Creating Vector\n",
    "tV= torch.tensor([[1,2,3,4]])\n",
    "print(tV)"
   ]
  },
  {
   "cell_type": "code",
   "execution_count": 57,
   "id": "d1b4b25c",
   "metadata": {},
   "outputs": [
    {
     "name": "stdout",
     "output_type": "stream",
     "text": [
      "Shape of tV: torch.Size([1, 4])\n",
      " \n",
      "Size of tV: torch.Size([1, 4])\n",
      " \n",
      "type of tV: <class 'torch.Tensor'>\n"
     ]
    }
   ],
   "source": [
    "#Shape\n",
    "print(f\"Shape of tV: {tV.shape}\"), print(\" \")\n",
    "#Size\n",
    "print(f\"Size of tV: {tV.size()}\"), print(\" \")\n",
    "#Type\n",
    "print(f\"type of tV: {type(tV)}\")"
   ]
  },
  {
   "cell_type": "markdown",
   "id": "78f3de08",
   "metadata": {},
   "source": [
    "**A tensor is a generic structure that can be used for storing, repmresenting, and changing data.**"
   ]
  },
  {
   "cell_type": "code",
   "execution_count": 51,
   "id": "137af74f",
   "metadata": {},
   "outputs": [
    {
     "name": "stdout",
     "output_type": "stream",
     "text": [
      "Original Vector: tensor([[1, 2, 3, 4]])\n",
      " \n",
      "After Transposing: \n",
      " tensor([[1],\n",
      "        [2],\n",
      "        [3],\n",
      "        [4]])\n",
      " \n",
      "After tranposing the transpose Vector: tensor([[1, 2, 3, 4]])\n"
     ]
    }
   ],
   "source": [
    "#Transposing a Vector in pytorch\n",
    "print(f\"Original Vector: {tV}\"), print(\" \")\n",
    "print(f'After Transposing: \\n {tV.T}'), print(\" \")\n",
    "print(f\"After tranposing the transpose Vector: {(tV.T).T}\")"
   ]
  },
  {
   "cell_type": "code",
   "execution_count": 60,
   "id": "c7ab81a0",
   "metadata": {},
   "outputs": [
    {
     "name": "stdout",
     "output_type": "stream",
     "text": [
      "tensor([[1, 2, 3, 4],\n",
      "        [5, 6, 7, 8]])\n"
     ]
    }
   ],
   "source": [
    "### Matrix Using Pytorchx\n",
    "tm = torch.tensor(\n",
    "    [\n",
    "    [1,2,3,4],\n",
    "    [5,6,7,8]\n",
    "    ])\n",
    "print(tm)"
   ]
  },
  {
   "cell_type": "code",
   "execution_count": 62,
   "id": "daf8bfed",
   "metadata": {},
   "outputs": [
    {
     "name": "stdout",
     "output_type": "stream",
     "text": [
      "Shape of tm Matrix: torch.Size([2, 4])\n",
      " \n",
      "Size of tm Matrix: torch.Size([2, 4])\n",
      " \n",
      "type of tm Matrix: <class 'torch.Tensor'>\n"
     ]
    }
   ],
   "source": [
    "#Shape\n",
    "print(f\"Shape of tm Matrix: {tm.shape}\"), print(\" \")\n",
    "#Size\n",
    "print(f\"Size of tm Matrix: {tm.size()}\"), print(\" \")\n",
    "#Type\n",
    "print(f\"type of tm Matrix: {type(tm)}\")"
   ]
  },
  {
   "cell_type": "code",
   "execution_count": 64,
   "id": "766f0973",
   "metadata": {},
   "outputs": [
    {
     "name": "stdout",
     "output_type": "stream",
     "text": [
      "Original Matrix: tensor([[1, 2, 3, 4],\n",
      "        [5, 6, 7, 8]])\n",
      " \n",
      "After Transposing: \n",
      " tensor([[1, 5],\n",
      "        [2, 6],\n",
      "        [3, 7],\n",
      "        [4, 8]])\n",
      " \n",
      "After tranposing the transpose Matrix: tensor([[1, 2, 3, 4],\n",
      "        [5, 6, 7, 8]])\n"
     ]
    }
   ],
   "source": [
    "#Transposing a Matrix in pytorch\n",
    "print(f\"Original Matrix: {tm}\"), print(\" \")\n",
    "print(f'After Transposing: \\n {tm.T}'), print(\" \")\n",
    "print(f\"After tranposing the transpose Matrix: {(tm.T).T}\")"
   ]
  }
 ],
 "metadata": {
  "kernelspec": {
   "display_name": "Python 3 (ipykernel)",
   "language": "python",
   "name": "python3"
  },
  "language_info": {
   "codemirror_mode": {
    "name": "ipython",
    "version": 3
   },
   "file_extension": ".py",
   "mimetype": "text/x-python",
   "name": "python",
   "nbconvert_exporter": "python",
   "pygments_lexer": "ipython3",
   "version": "3.11.5"
  }
 },
 "nbformat": 4,
 "nbformat_minor": 5
}
