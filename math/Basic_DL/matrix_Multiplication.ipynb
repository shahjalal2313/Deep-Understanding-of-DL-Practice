{
 "cells": [
  {
   "cell_type": "markdown",
   "metadata": {
    "id": "bhWV8oes-wKR"
   },
   "source": [
    "# Deep Understanding of Deep Learning Practice\n",
    "## Topic: Math,Numpy,Pytorch\n",
    "#### Topic: Matrix Multiplication\n",
    "\n",
    "### Shahjalal Shanto\n",
    "##### Department of Chemistry, University of Chittagong\n",
    "**20 February 2024**"
   ]
  },
  {
   "cell_type": "code",
   "execution_count": 61,
   "metadata": {},
   "outputs": [],
   "source": [
    "#import libraries\n",
    "import numpy as np\n",
    "import torch"
   ]
  },
  {
   "cell_type": "markdown",
   "metadata": {
    "id": "K0BSQG0fDpt_"
   },
   "source": [
    "<h2 style='text-align: center;'> Using numpy </h2>"
   ]
  },
  {
   "cell_type": "code",
   "execution_count": 62,
   "metadata": {},
   "outputs": [
    {
     "name": "stdout",
     "output_type": "stream",
     "text": [
      "[[13 16]\n",
      " [21 26]]\n"
     ]
    }
   ],
   "source": [
    "a=np.array([[1,2],\n",
    "            [2,3]])\n",
    "b=np.array([[3,4],\n",
    "            [5,6]])\n",
    "print(a@b)"
   ]
  },
  {
   "attachments": {
    "matrix_multiplication.png": {
     "image/png": "[encoded data removed]"
    }
   },
   "cell_type": "markdown",
   "metadata": {},
   "source": [
    "![matrix_multiplication.png](attachment:matrix_multiplication.png)"
   ]
  },
  {
   "cell_type": "code",
   "execution_count": 63,
   "metadata": {
    "scrolled": true
   },
   "outputs": [
    {
     "name": "stdout",
     "output_type": "stream",
     "text": [
      "[[-1.63102669 -1.15414654 -0.95634616]\n",
      " [-0.14055778 -1.29261386  5.07563201]\n",
      " [ 0.51622209 -2.61039742  5.01872886]]\n"
     ]
    }
   ],
   "source": [
    "#Creating some random matrices\n",
    "A = np.random.randn(3,4)\n",
    "B = np.random.randn(4,3)\n",
    "print(A@B)"
   ]
  },
  {
   "cell_type": "markdown",
   "metadata": {},
   "source": [
    "**The column of the first matrix should be equal to the row of the second matrix**\n",
    "if matrix1 has the shape(a,b)\n",
    "and matrix2 has the shape(c,d)\n",
    "then b should equal to d,i.e; b=c and the shape of the product matrix is (a,d)"
   ]
  },
  {
   "cell_type": "code",
   "execution_count": 64,
   "metadata": {},
   "outputs": [
    {
     "name": "stdout",
     "output_type": "stream",
     "text": [
      "(3, 4)\n",
      " \n",
      "(4, 3)\n",
      " \n",
      "(3, 3)\n"
     ]
    }
   ],
   "source": [
    "print(A.shape), print(\" \")\n",
    "print(B.shape), print(\" \")\n",
    "print((A@B).shape)"
   ]
  },
  {
   "cell_type": "code",
   "execution_count": 65,
   "metadata": {},
   "outputs": [],
   "source": [
    "A = np.random.randn(3,4)\n",
    "C = np.random.randn(3,4)\n",
    "#print(A@B)\n",
    "#Input operand 1 has a mismatch in its core dimension 0\n",
    "#error showing becuase the inner dimension doesn't match, 4 != 3"
   ]
  },
  {
   "cell_type": "code",
   "execution_count": 66,
   "metadata": {},
   "outputs": [
    {
     "name": "stdout",
     "output_type": "stream",
     "text": [
      "[[-1.1615628  -0.06515209 -0.22362019]\n",
      " [-5.01330858 -0.29068766 -4.44387261]\n",
      " [-2.26872133 -1.40011572  1.91138208]]\n",
      " \n",
      "[[ 1.10980427 -0.11641471  0.27366268]\n",
      " [ 3.3426884  -2.41852539  2.04483939]\n",
      " [ 3.0333479   2.06690282 -2.38544577]]\n"
     ]
    }
   ],
   "source": [
    "#one option is reshaping\n",
    "D = np.reshape(B,(4,3))\n",
    "print(A@D)\n",
    "#another option is transposing\n",
    "print(\" \")\n",
    "print(A@C.T)"
   ]
  },
  {
   "cell_type": "code",
   "execution_count": 67,
   "metadata": {},
   "outputs": [],
   "source": [
    "E= np.random.randn(4,7)\n",
    "F = C@E"
   ]
  },
  {
   "cell_type": "code",
   "execution_count": 68,
   "metadata": {},
   "outputs": [
    {
     "data": {
      "text/plain": [
       "array([[-1.77,  0.97,  2.17, -1.25, -0.43,  3.04,  0.37],\n",
       "       [ 0.83,  1.28,  0.15, -2.06,  2.92,  2.34,  1.55],\n",
       "       [-1.36, -2.12,  0.06,  3.23, -3.25, -1.99, -2.95]])"
      ]
     },
     "execution_count": 68,
     "metadata": {},
     "output_type": "execute_result"
    }
   ],
   "source": [
    "#rounding the value of F to two decimals\n",
    "np.round(F,2)"
   ]
  },
  {
   "cell_type": "markdown",
   "metadata": {
    "id": "89qsNy19Dp1U"
   },
   "source": [
    "<h2 style='text-align:center;'> Using pytorch </h2>"
   ]
  },
  {
   "cell_type": "code",
   "execution_count": 75,
   "metadata": {
    "id": "4Yrdf4WOEjxz"
   },
   "outputs": [
    {
     "name": "stdout",
     "output_type": "stream",
     "text": [
      "tensor([[ 0.5400, -2.9200,  0.0600,  0.5500,  1.3100],\n",
      "        [ 1.8300, -0.8600, -2.0000,  0.9900,  1.1100],\n",
      "        [ 3.0500,  0.2400, -1.3200, -0.0700,  1.2500]])\n",
      " \n"
     ]
    },
    {
     "data": {
      "text/plain": [
       "(None, None)"
      ]
     },
     "execution_count": 75,
     "metadata": {},
     "output_type": "execute_result"
    }
   ],
   "source": [
    "# create some random matrices with torch\n",
    "A  = torch.randn(3,4)\n",
    "B  = torch.randn(4,5)\n",
    "print(np.round( A@B,2)), print(' ')\n",
    "\n",
    "# print(np.round( A@C2  ,2))"
   ]
  },
  {
   "cell_type": "code",
   "execution_count": 70,
   "metadata": {},
   "outputs": [],
   "source": [
    "#print(np.round( A@B.T ,2)), print(' ')\n",
    "#mat1 and mat2 shapes cannot be multiplied (3x4 and 5x4)"
   ]
  },
  {
   "cell_type": "code",
   "execution_count": 71,
   "metadata": {},
   "outputs": [
    {
     "name": "stdout",
     "output_type": "stream",
     "text": [
      "tensor([[-1.6200, -2.1100,  2.2500,  1.8300, -0.2100,  2.8300,  0.0400],\n",
      "        [-1.4600, -0.4300,  0.3200, -1.8700, -0.6100, -1.5800,  1.2500],\n",
      "        [-1.1900, -0.3700,  2.0200,  2.5300, -0.6000,  1.5400, -0.8000]],\n",
      "       dtype=torch.float64)\n",
      " \n",
      "<class 'torch.Tensor'>\n",
      " \n",
      "<class 'numpy.ndarray'>\n"
     ]
    }
   ],
   "source": [
    "#Creating matrix using numpy\n",
    "C1 = np.random.randn(4,7)\n",
    "#trying multiplications in different data types\n",
    "print(np.round( A@C1  ,2)), print(' ')\n",
    "print(type(A)), print(' ')\n",
    "print(type(C1))"
   ]
  },
  {
   "cell_type": "code",
   "execution_count": 72,
   "metadata": {},
   "outputs": [
    {
     "name": "stdout",
     "output_type": "stream",
     "text": [
      "<class 'torch.Tensor'>\n"
     ]
    },
    {
     "data": {
      "text/plain": [
       "tensor([[-0.6099,  0.3807,  0.2807, -0.3074, -0.4477, -0.9750,  0.1114],\n",
       "        [-0.2034, -0.0942,  0.7815,  1.5281, -0.1705,  1.0440, -0.4447],\n",
       "        [-0.0812,  0.0350,  0.1082,  1.3272, -0.6919,  0.6764,  1.6199],\n",
       "        [ 1.2139,  1.4385, -1.1221,  0.3347, -0.0635, -0.8344,  0.0696]],\n",
       "       dtype=torch.float64)"
      ]
     },
     "execution_count": 72,
     "metadata": {},
     "output_type": "execute_result"
    }
   ],
   "source": [
    "#Converting numpy ndarray to tensor\n",
    "C2 = torch.tensor(C1)\n",
    "print(type(C2))\n",
    "C2"
   ]
  },
  {
   "cell_type": "code",
   "execution_count": 73,
   "metadata": {},
   "outputs": [],
   "source": [
    "# print(np.round(A@C2,2))\n",
    "# expected m1 and m2 to have the same dtype, but got: float != double\n",
    "#C2 has float64"
   ]
  },
  {
   "cell_type": "code",
   "execution_count": 74,
   "metadata": {},
   "outputs": [
    {
     "name": "stdout",
     "output_type": "stream",
     "text": [
      "tensor([[-1.6200, -2.1100,  2.2500,  1.8300, -0.2100,  2.8300,  0.0400],\n",
      "        [-1.4600, -0.4300,  0.3200, -1.8700, -0.6100, -1.5800,  1.2500],\n",
      "        [-1.1900, -0.3700,  2.0200,  2.5300, -0.6000,  1.5400, -0.8000]])\n"
     ]
    }
   ],
   "source": [
    "#changing datatypes to torch.float\n",
    "C2 = torch.tensor(C1,dtype=torch.float)\n",
    "print(np.round(A@C2,2))"
   ]
  }
 ],
 "metadata": {
  "colab": {
   "authorship_tag": "ABX9TyN3xNttY0efRLiZkxgkBGe2",
   "collapsed_sections": [],
   "name": "DUDL_math_matrixMult.ipynb",
   "provenance": []
  },
  "kernelspec": {
   "display_name": "Python 3 (ipykernel)",
   "language": "python",
   "name": "python3"
  },
  "language_info": {
   "codemirror_mode": {
    "name": "ipython",
    "version": 3
   },
   "file_extension": ".py",
   "mimetype": "text/x-python",
   "name": "python",
   "nbconvert_exporter": "python",
   "pygments_lexer": "ipython3",
   "version": "3.11.5"
  }
 },
 "nbformat": 4,
 "nbformat_minor": 1
}
