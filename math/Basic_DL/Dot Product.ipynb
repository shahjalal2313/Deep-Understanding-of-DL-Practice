{
 "cells": [
  {
   "cell_type": "markdown",
   "id": "3fcf78d3",
   "metadata": {},
   "source": [
    "# Deep Understanding of Deep Learning Practice\n",
    "## Topic: Math,Numpy,Pytorch\n",
    "#### Topic: Dot Product\n",
    "\n",
    "### Shahjalal Shanto\n",
    "##### Department of Chemistry, University of Chittagong\n",
    "**19 February 2024**"
   ]
  },
  {
   "cell_type": "code",
   "execution_count": 10,
   "id": "a0e04598",
   "metadata": {},
   "outputs": [],
   "source": [
    "#importing libraries\n",
    "import numpy as np\n",
    "import torch"
   ]
  },
  {
   "cell_type": "markdown",
   "id": "e0de5869",
   "metadata": {},
   "source": [
    "#### **Interpretation of Dot Products**\n",
    "   *A single number that reflects the commonalities between two objects (Vectors,matrices,tensors,signals,images)*\n",
    "#### **The dot product is the computational backbone for many operations**\n",
    " * Statistics:Correlation, Least-squares, Entropy\n",
    " * Signal Processing: Fourier transform, filtering\n",
    " * Linear Algebra: Projection, transformations, multiplication\n",
    " * Deep Learning: Convolution, Matrix multiplication, Gram matrix (used in style transfer)"
   ]
  },
  {
   "cell_type": "markdown",
   "id": "0009778e",
   "metadata": {},
   "source": [
    "## Using Numpy"
   ]
  },
  {
   "cell_type": "markdown",
   "id": "7f3fd1f0",
   "metadata": {},
   "source": [
    "### Vectors"
   ]
  },
  {
   "cell_type": "code",
   "execution_count": 2,
   "id": "bd7907ac",
   "metadata": {},
   "outputs": [],
   "source": [
    "#Creating vector\n",
    "nv1 = np.array([1,3,6,0])\n",
    "nv2 = np.array([4,9,0,7])"
   ]
  },
  {
   "cell_type": "code",
   "execution_count": 3,
   "id": "a1357a80",
   "metadata": {},
   "outputs": [
    {
     "name": "stdout",
     "output_type": "stream",
     "text": [
      "31\n"
     ]
    }
   ],
   "source": [
    "#calculating dot product via np.dot() function\n",
    "print(np.dot(nv1,nv2))"
   ]
  },
  {
   "cell_type": "code",
   "execution_count": 4,
   "id": "7ff73364",
   "metadata": {},
   "outputs": [
    {
     "name": "stdout",
     "output_type": "stream",
     "text": [
      "31\n"
     ]
    }
   ],
   "source": [
    "#another approach via computation\n",
    "print(np.sum(nv1*nv2))"
   ]
  },
  {
   "cell_type": "markdown",
   "id": "263551f1",
   "metadata": {},
   "source": [
    "### Matrix"
   ]
  },
  {
   "cell_type": "code",
   "execution_count": 6,
   "id": "b0e62d43",
   "metadata": {},
   "outputs": [
    {
     "data": {
      "text/plain": [
       "array([[37, 40],\n",
       "       [85, 92]])"
      ]
     },
     "execution_count": 6,
     "metadata": {},
     "output_type": "execute_result"
    }
   ],
   "source": [
    "#Calculating dot product for Matrix\n",
    "nm1 = np.array([[1,2],[3,4]]) \n",
    "nm2 = np.array([[11,12],[13,14]]) \n",
    "np.dot(nm1,nm2)"
   ]
  },
  {
   "cell_type": "markdown",
   "id": "11a01548",
   "metadata": {},
   "source": [
    "## Using Torch"
   ]
  },
  {
   "cell_type": "code",
   "execution_count": 12,
   "id": "55fa8a82",
   "metadata": {},
   "outputs": [],
   "source": [
    "#creating 2-D tensors\n",
    "tv1 = torch.tensor([1,3,6,0])\n",
    "tv2 = torch.tensor([4,9,0,7])"
   ]
  },
  {
   "cell_type": "code",
   "execution_count": 14,
   "id": "772dd719",
   "metadata": {},
   "outputs": [
    {
     "data": {
      "text/plain": [
       "tensor(31)"
      ]
     },
     "execution_count": 14,
     "metadata": {},
     "output_type": "execute_result"
    }
   ],
   "source": [
    "#calculating dot product via torch.dot()\n",
    "torch.dot(tv1,tv2)"
   ]
  },
  {
   "cell_type": "code",
   "execution_count": 30,
   "id": "007b00ad",
   "metadata": {},
   "outputs": [
    {
     "data": {
      "text/plain": [
       "tensor(31)"
      ]
     },
     "execution_count": 30,
     "metadata": {},
     "output_type": "execute_result"
    }
   ],
   "source": [
    "#dot Product via computation\n",
    "torch.sum(tv1*tv2)"
   ]
  },
  {
   "cell_type": "markdown",
   "id": "adbaeb55",
   "metadata": {},
   "source": [
    "**Dot product calculation only works when the shape of the two object will be same**"
   ]
  },
  {
   "cell_type": "code",
   "execution_count": 18,
   "id": "2011a8ad",
   "metadata": {},
   "outputs": [],
   "source": [
    "# nv3 = np.array([1,3,0])\n",
    "# nv4 = np.array([4,9,0,7])\n",
    "# np.dot(nv3,nv4)\n",
    "#ValueError: shapes (3,) and (4,) not aligned: 3 (dim 0) != 4 (dim 0)"
   ]
  },
  {
   "cell_type": "code",
   "execution_count": 25,
   "id": "9f7abcea",
   "metadata": {},
   "outputs": [],
   "source": [
    "a = np.zeros((3,2))\n",
    "b = np.zeros((3,2))\n",
    "# np.dot(a,b)\n",
    "#shapes (3,2) and (3,2) not aligned: 2 (dim 1) != 3 (dim 0)"
   ]
  },
  {
   "cell_type": "code",
   "execution_count": 29,
   "id": "cc2d5789",
   "metadata": {},
   "outputs": [
    {
     "data": {
      "text/plain": [
       "array([[0., 0., 0.],\n",
       "       [0., 0., 0.],\n",
       "       [0., 0., 0.]])"
      ]
     },
     "execution_count": 29,
     "metadata": {},
     "output_type": "execute_result"
    }
   ],
   "source": [
    "c = np.reshape(b,(2,3))\n",
    "np.dot(a,c)"
   ]
  },
  {
   "cell_type": "code",
   "execution_count": null,
   "id": "9bfe4393",
   "metadata": {},
   "outputs": [],
   "source": []
  }
 ],
 "metadata": {
  "kernelspec": {
   "display_name": "Python 3 (ipykernel)",
   "language": "python",
   "name": "python3"
  },
  "language_info": {
   "codemirror_mode": {
    "name": "ipython",
    "version": 3
   },
   "file_extension": ".py",
   "mimetype": "text/x-python",
   "name": "python",
   "nbconvert_exporter": "python",
   "pygments_lexer": "ipython3",
   "version": "3.11.5"
  }
 },
 "nbformat": 4,
 "nbformat_minor": 5
}
