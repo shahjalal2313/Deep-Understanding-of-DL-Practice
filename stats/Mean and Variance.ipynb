{
 "cells": [
  {
   "cell_type": "markdown",
   "id": "c9a2cef6",
   "metadata": {},
   "source": [
    "# Deep Understanding of Deep Learning Practice\n",
    "## Chapter: Statistics,Numpy,Pytorch\n",
    "### Topic: Mean & Variance\n",
    "#### Shahjalal Shanto\n",
    "##### Department of Chemistry, University of Chittagong\n",
    "**26 February 2024**"
   ]
  },
  {
   "cell_type": "markdown",
   "id": "9edd9116",
   "metadata": {},
   "source": [
    "## Mean "
   ]
  },
  {
   "cell_type": "markdown",
   "id": "c8a34679",
   "metadata": {},
   "source": [
    "**The mean is the most widely spread measure of central tendency. It is the simple average of the dataset.**\n",
    "\n",
    "**Note:** \n",
    "* Easily affected by outliers\n",
    "\n",
    "<center> <b>Formula of mean</b> </center>\n",
    "\n",
    "\n",
    "$$\n",
    "\\bar{x} = \\frac{1}{n} \\sum_{i=1}^{n} x_i\n",
    "$$"
   ]
  },
  {
   "cell_type": "markdown",
   "id": "52a75b4d",
   "metadata": {},
   "source": [
    "## Variance and standard deviation"
   ]
  },
  {
   "cell_type": "markdown",
   "id": "f1eeb25c",
   "metadata": {},
   "source": [
    "**Variance and standard deviation measure the dispersion of a set of data points around its mean value.There are different formulas for population and sample variance & standard deviation. This is due to the fact that the sample formulas are the unbiased estimators of the population\n",
    "formulas**"
   ]
  },
  {
   "cell_type": "markdown",
   "id": "134e099d",
   "metadata": {},
   "source": [
    " <center> <b>Sample Variance Formula </b> </center>\n",
    "$$\n",
    "s^2 = \\frac{1}{n-1} \\sum_{i=1}^{n} (x_i - \\bar{x})^2\n",
    "$$\n"
   ]
  },
  {
   "cell_type": "markdown",
   "id": "574a549f",
   "metadata": {},
   "source": [
    "<center> <b> Population Variance Formula </b> </center>\n",
    "$$\n",
    "\\sigma^2 = \\frac{1}{N} \\sum_{i=1}^{N} (x_i - \\mu)^2\n",
    "$$"
   ]
  },
  {
   "cell_type": "markdown",
   "id": "ae19a5d5",
   "metadata": {},
   "source": [
    "<center> <b> Sample standard deviation Formula </b> </center>\n",
    "$$\n",
    "s = \\sqrt{\\frac{1}{n-1} \\sum_{i=1}^{n} (x_i - \\bar{x})^2}\n",
    "$$"
   ]
  },
  {
   "cell_type": "markdown",
   "id": "eb89e6f6",
   "metadata": {},
   "source": [
    "<center> <b> Population standard deviation Formula </b> </center>\n",
    "$$\n",
    "\\sigma = \\sqrt{\\frac{1}{N} \\sum_{i=1}^{N} (x_i - \\mu)^2}\n",
    "$$"
   ]
  },
  {
   "cell_type": "markdown",
   "id": "6d310f80",
   "metadata": {},
   "source": [
    "* s represents the sample standard deviation.\n",
    "* σ represents the population standard deviation.\n",
    "* $x_i$ represents each individual observation.\n",
    "* $\\bar{x}$ represents the sample mean (average) for the sample standard deviation formula.\n",
    "* μ represents the population mean (average) for the population standard deviation formula.\n",
    "* n represents the sample size (number of observations) for the sample standard deviation formula.\n",
    "* N represents the population size (number of observations) for the population standard deviation formula."
   ]
  },
  {
   "cell_type": "markdown",
   "id": "e81929c0",
   "metadata": {},
   "source": [
    "**Note**\n",
    "* calculate the sample variance when the dataset you’re working with represents a a sample taken from a larger population of interest.\n",
    "* calculate the population variance when the dataset you’re working with represents an entire population, i.e. every value that you’re interested in.\n",
    "\n",
    "* Futuer Reference: https://www.statology.org/sample-variance-vs-population-variance/"
   ]
  },
  {
   "cell_type": "code",
   "execution_count": 11,
   "id": "20ec04ad",
   "metadata": {},
   "outputs": [],
   "source": [
    "# import libraries\n",
    "import numpy as np"
   ]
  },
  {
   "cell_type": "code",
   "execution_count": 14,
   "id": "43b1de5c",
   "metadata": {},
   "outputs": [
    {
     "name": "stdout",
     "output_type": "stream",
     "text": [
      "3.142857142857143\n",
      "3.142857142857143\n"
     ]
    }
   ],
   "source": [
    "# create a list of numbers to compute the mean and variance of\n",
    "x = [1,2,4,6,5,4,0]\n",
    "n = len(x)\n",
    "\n",
    "# compute the mean\n",
    "mean1 = np.mean(x)\n",
    "mean2 = np.sum(x) / n\n",
    "\n",
    "# print them\n",
    "print(mean1)\n",
    "print(mean2)"
   ]
  },
  {
   "cell_type": "code",
   "execution_count": 15,
   "id": "4b04f46a",
   "metadata": {},
   "outputs": [
    {
     "name": "stdout",
     "output_type": "stream",
     "text": [
      "4.122448979591836\n",
      "4.809523809523809\n"
     ]
    }
   ],
   "source": [
    "# variance\n",
    "\n",
    "var1 = np.var(x)\n",
    "var2 = (1/(n-1)) * np.sum( (x-mean1)**2 )\n",
    "\n",
    "print(var1)\n",
    "print(var2)"
   ]
  },
  {
   "cell_type": "code",
   "execution_count": 16,
   "id": "015ced67",
   "metadata": {},
   "outputs": [
    {
     "name": "stdout",
     "output_type": "stream",
     "text": [
      "4.809523809523809\n",
      "4.809523809523809\n"
     ]
    }
   ],
   "source": [
    "# using np.var and explicitly assigning degree of freedom to 1!\n",
    "\n",
    "var3 = np.var(x,ddof=1)\n",
    "\n",
    "print(var3)\n",
    "print(var2)"
   ]
  },
  {
   "cell_type": "code",
   "execution_count": 17,
   "id": "af16bd43",
   "metadata": {},
   "outputs": [
    {
     "name": "stdout",
     "output_type": "stream",
     "text": [
      "32.95552111\n",
      "32.95881699169917\n"
     ]
    }
   ],
   "source": [
    "# does it matter for large N? \n",
    "\n",
    "N = 10000\n",
    "x = np.random.randint(0,high=20,size=N)\n",
    "\n",
    "var0 = np.var(x,ddof=0) # default\n",
    "var1 = np.var(x,ddof=1) # unbiased\n",
    "\n",
    "print(var0)\n",
    "print(var1)"
   ]
  },
  {
   "cell_type": "markdown",
   "id": "db5af970",
   "metadata": {},
   "source": [
    "**For a large dataset the difference between biased and unbiased get smaller**\n",
    "* These concepts are very usefull in DL especially in normalization of data or weights of the model"
   ]
  },
  {
   "cell_type": "code",
   "execution_count": null,
   "id": "a01d304e",
   "metadata": {},
   "outputs": [],
   "source": []
  }
 ],
 "metadata": {
  "kernelspec": {
   "display_name": "Python 3 (ipykernel)",
   "language": "python",
   "name": "python3"
  },
  "language_info": {
   "codemirror_mode": {
    "name": "ipython",
    "version": 3
   },
   "file_extension": ".py",
   "mimetype": "text/x-python",
   "name": "python",
   "nbconvert_exporter": "python",
   "pygments_lexer": "ipython3",
   "version": "3.11.5"
  }
 },
 "nbformat": 4,
 "nbformat_minor": 5
}
