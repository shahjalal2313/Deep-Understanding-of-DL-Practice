{
 "cells": [
  {
   "cell_type": "markdown",
   "id": "6dd9b94e",
   "metadata": {},
   "source": [
    "# Deep Understanding of Deep Learning Practice\n",
    "## Chapter: Statistics,Numpy,Pytorch\n",
    "### Topic: Minimum(argmin), Maximum(argmax)\n",
    "#### Shahjalal Shanto\n",
    "##### Department of Chemistry, University of Chittagong\n",
    "**25 February 2024**"
   ]
  },
  {
   "cell_type": "code",
   "execution_count": 3,
   "id": "6ca56588",
   "metadata": {},
   "outputs": [],
   "source": [
    "#importing Libraries\n",
    "import numpy as np\n",
    "import matplotlib.pyplot as plt\n",
    "import torch\n",
    "import torch.nn as nn"
   ]
  },
  {
   "cell_type": "markdown",
   "id": "9032e468",
   "metadata": {},
   "source": [
    "**Note:**\n",
    "* In DL(for example in CNN), in a list of Model Output the argmax function help us to determine which has the highest softmax value that was given by a softmax function"
   ]
  },
  {
   "cell_type": "markdown",
   "id": "343990e0",
   "metadata": {},
   "source": [
    "## Using numpy"
   ]
  },
  {
   "cell_type": "code",
   "execution_count": 5,
   "id": "508092ee",
   "metadata": {},
   "outputs": [
    {
     "name": "stdout",
     "output_type": "stream",
     "text": [
      "[-3 -5  4 -1  1 -4  3  3 -3 -4  0  2  3  4 -4  1  3  0  0 -1]\n"
     ]
    }
   ],
   "source": [
    "#Creating a random vector\n",
    "vec = np.random.randint(-5,5,20)\n",
    "print(vec)"
   ]
  },
  {
   "cell_type": "code",
   "execution_count": 6,
   "id": "67b701fd",
   "metadata": {},
   "outputs": [
    {
     "name": "stdout",
     "output_type": "stream",
     "text": [
      "Min,Max: -5,4\n"
     ]
    }
   ],
   "source": [
    "#minimum value\n",
    "minval = np.min(vec)\n",
    "#maximum value\n",
    "maxval = np.max(vec)\n",
    "\n",
    "print(\"Min,Max: %g,%g\" %(minval,maxval))"
   ]
  },
  {
   "cell_type": "code",
   "execution_count": 7,
   "id": "dc9b2759",
   "metadata": {},
   "outputs": [
    {
     "name": "stdout",
     "output_type": "stream",
     "text": [
      "minimum,maximum indices: 1,2\n"
     ]
    }
   ],
   "source": [
    "#now for the argmin and aargmax\n",
    "minidx = np.argmin(vec)\n",
    "maxidx = np.argmax(vec)\n",
    "print(\"minimum,maximum indices: %g,%g\"%(minidx,maxidx))"
   ]
  },
  {
   "cell_type": "code",
   "execution_count": 9,
   "id": "752bff47",
   "metadata": {},
   "outputs": [
    {
     "name": "stdout",
     "output_type": "stream",
     "text": [
      "Minimum value is -5 and Maximum Value is 4\n"
     ]
    }
   ],
   "source": [
    "#Confirm\n",
    "print(f\"Minimum value is {vec[minidx]} and Maximum Value is {vec[maxidx]}\")"
   ]
  },
  {
   "cell_type": "markdown",
   "id": "061137a9",
   "metadata": {},
   "source": [
    "**Repeating With Matrix**"
   ]
  },
  {
   "cell_type": "code",
   "execution_count": 11,
   "id": "fc3de707",
   "metadata": {},
   "outputs": [
    {
     "data": {
      "text/plain": [
       "array([[0.55127617, 0.64295418],\n",
       "       [0.80987604, 0.69215204],\n",
       "       [0.6754636 , 0.23488575]])"
      ]
     },
     "execution_count": 11,
     "metadata": {},
     "output_type": "execute_result"
    }
   ],
   "source": [
    "#creating a random matrix\n",
    "rmat = np.random.rand(3,2)\n",
    "rmat"
   ]
  },
  {
   "cell_type": "code",
   "execution_count": 14,
   "id": "09d9e9d9",
   "metadata": {},
   "outputs": [
    {
     "name": "stdout",
     "output_type": "stream",
     "text": [
      "minimum value of the entire matrix: 0.23488574633329218\n",
      " \n",
      "minimum value in each column: [0.55127617 0.23488575]\n",
      " \n",
      "minimum value in each row: [0.55127617 0.69215204 0.23488575]\n",
      " \n"
     ]
    },
    {
     "data": {
      "text/plain": [
       "(None, None)"
      ]
     },
     "execution_count": 14,
     "metadata": {},
     "output_type": "execute_result"
    }
   ],
   "source": [
    "minvals1 = np.min(rmat) #minimum value from the entire matrix\n",
    "minval_in_column = np.min(rmat,axis=0) #minimum value across column\n",
    "minval_in_row = np.min(rmat,axis=1) #minimum value across row\n",
    "print(f\"minimum value of the entire matrix: {minvals1}\"), print(\" \")\n",
    "print(f\"minimum value in each column: {minval_in_column}\"), print(\" \")\n",
    "print(f\"minimum value in each row: {minval_in_row}\"), print(\" \")"
   ]
  },
  {
   "cell_type": "code",
   "execution_count": 15,
   "id": "8a7b40e0",
   "metadata": {},
   "outputs": [
    {
     "name": "stdout",
     "output_type": "stream",
     "text": [
      "Index of minimum value of the entire matrix: 5\n",
      " \n",
      "Index of minimum value in each column: [0 2]\n",
      " \n",
      "Index of minimum value in each row: [0 1 1]\n",
      " \n"
     ]
    },
    {
     "data": {
      "text/plain": [
       "(None, None)"
      ]
     },
     "execution_count": 15,
     "metadata": {},
     "output_type": "execute_result"
    }
   ],
   "source": [
    "#repeating for argmin\n",
    "minvalidx = np.argmin(rmat) #in the entire matrix\n",
    "minvalidx_in_col = np.argmin(rmat,axis=0) #index of minimum value across column\n",
    "minvalidx_in_row = np.argmin(rmat,axis=1) #index of minimum value across row\n",
    "print(f\"Index of minimum value of the entire matrix: {minvalidx}\"), print(\" \")\n",
    "print(f\"Index of minimum value in each column: {minvalidx_in_col}\"), print(\" \")\n",
    "print(f\"Index of minimum value in each row: {minvalidx_in_row}\"), print(\" \")"
   ]
  },
  {
   "cell_type": "markdown",
   "id": "190577fa",
   "metadata": {},
   "source": [
    "## Using pytorch"
   ]
  },
  {
   "cell_type": "code",
   "execution_count": 17,
   "id": "3c07526c",
   "metadata": {},
   "outputs": [
    {
     "data": {
      "text/plain": [
       "tensor([-3., -5.,  4., -1.,  1., -4.,  3.,  3., -3., -4.,  0.,  2.,  3.,  4.,\n",
       "        -4.,  1.,  3.,  0.,  0., -1.])"
      ]
     },
     "execution_count": 17,
     "metadata": {},
     "output_type": "execute_result"
    }
   ],
   "source": [
    "#Converting the vector to tensor\n",
    "vt = torch.Tensor(vec)\n",
    "vt"
   ]
  },
  {
   "cell_type": "code",
   "execution_count": 19,
   "id": "660317c5",
   "metadata": {},
   "outputs": [
    {
     "name": "stdout",
     "output_type": "stream",
     "text": [
      "Minimum,Maximum: -5,4\n"
     ]
    }
   ],
   "source": [
    "#minimum and maximum\n",
    "tmin = torch.min(vt)\n",
    "tmax = torch.max(vt)\n",
    "print(\"Minimum,Maximum: %g,%g\"%(tmin,tmax))"
   ]
  },
  {
   "cell_type": "code",
   "execution_count": 21,
   "id": "11292229",
   "metadata": {},
   "outputs": [
    {
     "name": "stdout",
     "output_type": "stream",
     "text": [
      "Index of Minimum and Maximum: 1,2\n"
     ]
    }
   ],
   "source": [
    "#index of minimum and maximum\n",
    "tminidx = torch.argmin(vt)\n",
    "tmaxidx = torch.argmax(vt)\n",
    "print(\"Index of Minimum and Maximum: %g,%g\" %(tminidx,tmaxidx))"
   ]
  },
  {
   "cell_type": "markdown",
   "id": "b9da87bb",
   "metadata": {},
   "source": [
    "**Repeating the process for Matrix**"
   ]
  },
  {
   "cell_type": "code",
   "execution_count": 23,
   "id": "84264939",
   "metadata": {},
   "outputs": [
    {
     "data": {
      "text/plain": [
       "tensor([[0.5513, 0.6430],\n",
       "        [0.8099, 0.6922],\n",
       "        [0.6755, 0.2349]])"
      ]
     },
     "execution_count": 23,
     "metadata": {},
     "output_type": "execute_result"
    }
   ],
   "source": [
    "tmat = torch.Tensor(rmat)\n",
    "tmat"
   ]
  },
  {
   "cell_type": "code",
   "execution_count": 25,
   "id": "ae18c1d9",
   "metadata": {},
   "outputs": [
    {
     "name": "stdout",
     "output_type": "stream",
     "text": [
      "minimum value of the entire matrix: 0.23488575220108032\n",
      " \n",
      "minimum value in each column: torch.return_types.min(\n",
      "values=tensor([0.5513, 0.2349]),\n",
      "indices=tensor([0, 2]))\n",
      " \n",
      "minimum value in each row: torch.return_types.max(\n",
      "values=tensor([0.6430, 0.8099, 0.6755]),\n",
      "indices=tensor([1, 0, 0]))\n",
      " \n"
     ]
    },
    {
     "data": {
      "text/plain": [
       "(None, None)"
      ]
     },
     "execution_count": 25,
     "metadata": {},
     "output_type": "execute_result"
    }
   ],
   "source": [
    "#finding minimam in a matrix using pytorch\n",
    "mint = torch.min(tmat) #in the entire matrix\n",
    "minInCol = torch.min(tmat,axis=0) #minimum across column\n",
    "minInRow = torch.max(tmat,axis=1)  #minimum across row\n",
    "print(f\"minimum value of the entire matrix: {mint}\"), print(\" \")\n",
    "print(f\"minimum value in each column: {minInCol}\"), print(\" \")\n",
    "print(f\"minimum value in each row: {minInRow}\"), print(\" \")"
   ]
  },
  {
   "cell_type": "markdown",
   "id": "196a214e",
   "metadata": {},
   "source": [
    "**Its a different data types, not a tensor. we dont have to find the indices separately the values and the indices are given in a tuple**"
   ]
  },
  {
   "cell_type": "code",
   "execution_count": 26,
   "id": "712cb1b3",
   "metadata": {},
   "outputs": [
    {
     "data": {
      "text/plain": [
       "torch.return_types.min"
      ]
     },
     "execution_count": 26,
     "metadata": {},
     "output_type": "execute_result"
    }
   ],
   "source": [
    "type(minInCol)"
   ]
  },
  {
   "cell_type": "code",
   "execution_count": 28,
   "id": "a12fa954",
   "metadata": {},
   "outputs": [
    {
     "data": {
      "text/plain": [
       "tensor([0.5513, 0.2349])"
      ]
     },
     "execution_count": 28,
     "metadata": {},
     "output_type": "execute_result"
    }
   ],
   "source": [
    "#we can extract values and indices separately\n",
    "minInCol.values"
   ]
  },
  {
   "cell_type": "code",
   "execution_count": 31,
   "id": "91259510",
   "metadata": {},
   "outputs": [
    {
     "data": {
      "text/plain": [
       "tensor([0, 2])"
      ]
     },
     "execution_count": 31,
     "metadata": {},
     "output_type": "execute_result"
    }
   ],
   "source": [
    "#indices\n",
    "minInCol.indices"
   ]
  }
 ],
 "metadata": {
  "kernelspec": {
   "display_name": "Python 3 (ipykernel)",
   "language": "python",
   "name": "python3"
  },
  "language_info": {
   "codemirror_mode": {
    "name": "ipython",
    "version": 3
   },
   "file_extension": ".py",
   "mimetype": "text/x-python",
   "name": "python",
   "nbconvert_exporter": "python",
   "pygments_lexer": "ipython3",
   "version": "3.11.5"
  }
 },
 "nbformat": 4,
 "nbformat_minor": 5
}
